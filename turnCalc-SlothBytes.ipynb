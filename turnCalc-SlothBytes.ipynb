{
 "cells": [
  {
   "cell_type": "markdown",
   "id": "0b334b10",
   "metadata": {},
   "source": [
    "# This program takes a number as an input and flips the number 180 degrees (as if flipped on a calculator) to show a word!"
   ]
  },
  {
   "cell_type": "markdown",
   "id": "f503e125",
   "metadata": {},
   "source": [
    "## The function takes in a number (a string) from the user, and checks if each digit in the number is in the pre-defined dictionary (which has the numbers and corresponding letters as key-value pairs), then that letter corresponding to the digit is appending to an empty string. The string is then reversed, mimicking the 180 degree turn on a calculator."
   ]
  },
  {
   "cell_type": "markdown",
   "id": "534352f8",
   "metadata": {},
   "source": [
    "Made by- Kavya Anil"
   ]
  },
  {
   "cell_type": "markdown",
   "id": "f884eb35",
   "metadata": {},
   "source": [
    "Email: anilkavya266@gmail.com"
   ]
  },
  {
   "cell_type": "markdown",
   "id": "7f233be4",
   "metadata": {},
   "source": [
    "GitHub: https://github.com/kavya-1706"
   ]
  },
  {
   "cell_type": "code",
   "execution_count": 39,
   "id": "6279b198",
   "metadata": {},
   "outputs": [],
   "source": [
    "def turnCalc(string): # number taken as string input\n",
    "    \n",
    "    # pre defined dictionary with the digits and corresponding letters\n",
    "    letters={'1':'I','2':'Z','3':'E','4':'H','5':'S','6':'G','7':'L','8':'B','0':'O'} \n",
    "    \n",
    "    # empty string to save the  output\n",
    "    output=''\n",
    "    \n",
    "    # for each digit i in the input\n",
    "    for i in string:\n",
    "        \n",
    "        # if the digit is in the pre defined dictionary\n",
    "        if i in letters:\n",
    "            \n",
    "            # the letter corresponding to digit i is taken and appended to the empty string\n",
    "            output=output+letters[i]\n",
    "            \n",
    "            # for example, for '5508', the variable 'output' saves -> SS0B\n",
    "            # to mimick the 180 degree turn of the calculator, 'output' is reversed and returned\n",
    "            # for example, 'SSOB' becomes 'BOSS' !!\n",
    "\n",
    "    return output[::-1]"
   ]
  },
  {
   "cell_type": "code",
   "execution_count": 40,
   "id": "a48c9d33",
   "metadata": {},
   "outputs": [
    {
     "name": "stdout",
     "output_type": "stream",
     "text": [
      "enter number:5508\n",
      "BOSS\n"
     ]
    }
   ],
   "source": [
    "string=input(\"enter number:\")\n",
    "output=turnCalc(string)\n",
    "print(output)"
   ]
  },
  {
   "cell_type": "code",
   "execution_count": 41,
   "id": "e6b9b4cd",
   "metadata": {},
   "outputs": [
    {
     "data": {
      "text/plain": [
       "'LOL'"
      ]
     },
     "execution_count": 41,
     "metadata": {},
     "output_type": "execute_result"
    }
   ],
   "source": [
    "turnCalc('707')"
   ]
  },
  {
   "cell_type": "code",
   "execution_count": 42,
   "id": "c8ea385e",
   "metadata": {},
   "outputs": [
    {
     "data": {
      "text/plain": [
       "'SHOE'"
      ]
     },
     "execution_count": 42,
     "metadata": {},
     "output_type": "execute_result"
    }
   ],
   "source": [
    "turnCalc('3045')"
   ]
  },
  {
   "cell_type": "code",
   "execution_count": 43,
   "id": "7418ce45",
   "metadata": {},
   "outputs": [
    {
     "data": {
      "text/plain": [
       "'BOSS'"
      ]
     },
     "execution_count": 43,
     "metadata": {},
     "output_type": "execute_result"
    }
   ],
   "source": [
    "turnCalc('5508')"
   ]
  },
  {
   "cell_type": "code",
   "execution_count": 44,
   "id": "3a0668b5",
   "metadata": {},
   "outputs": [
    {
     "data": {
      "text/plain": [
       "'HELLO'"
      ]
     },
     "execution_count": 44,
     "metadata": {},
     "output_type": "execute_result"
    }
   ],
   "source": [
    "turnCalc('07734')"
   ]
  },
  {
   "cell_type": "code",
   "execution_count": 45,
   "id": "55d738f6",
   "metadata": {},
   "outputs": [
    {
     "data": {
      "text/plain": [
       "'ZOOSH'"
      ]
     },
     "execution_count": 45,
     "metadata": {},
     "output_type": "execute_result"
    }
   ],
   "source": [
    "turnCalc('45002')"
   ]
  },
  {
   "cell_type": "code",
   "execution_count": null,
   "id": "6ba55c9d",
   "metadata": {},
   "outputs": [],
   "source": []
  }
 ],
 "metadata": {
  "kernelspec": {
   "display_name": "Python 3 (ipykernel)",
   "language": "python",
   "name": "python3"
  },
  "language_info": {
   "codemirror_mode": {
    "name": "ipython",
    "version": 3
   },
   "file_extension": ".py",
   "mimetype": "text/x-python",
   "name": "python",
   "nbconvert_exporter": "python",
   "pygments_lexer": "ipython3",
   "version": "3.11.5"
  }
 },
 "nbformat": 4,
 "nbformat_minor": 5
}
